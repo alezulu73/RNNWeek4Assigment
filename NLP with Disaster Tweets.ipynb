{
 "cells": [
  {
   "cell_type": "markdown",
   "id": "b541f277-8365-4430-8da3-fdab2bc3b8b3",
   "metadata": {},
   "source": [
    "## Natural Language Processing with Disaster Tweets\n",
    "\n",
    "Predict which Tweets are about real disasters and which ones are not"
   ]
  },
  {
   "cell_type": "markdown",
   "id": "bb7bff4c-cfc0-4bf6-aa26-04cd39842b7a",
   "metadata": {},
   "source": [
    "### 1. Brief description of the problem and data\n",
    "\n",
    "Briefly describe the challenge problem and NLP. Describe the size, dimension, structure, etc., of the data. "
   ]
  },
  {
   "cell_type": "code",
   "execution_count": null,
   "id": "e4fad06f-4f17-4811-849e-a266f764fa08",
   "metadata": {},
   "outputs": [],
   "source": []
  },
  {
   "cell_type": "markdown",
   "id": "a939dd51-83f7-4fb0-80c1-fbde3d1dc9c5",
   "metadata": {},
   "source": [
    "### 2. Exploratory Data Analysis (EDA) — Inspect, Visualize and Clean the Data \n",
    "\n",
    "Show a few visualizations like histograms. Describe any data cleaning procedures. Based on your EDA, what is your plan of analysis? "
   ]
  },
  {
   "cell_type": "code",
   "execution_count": null,
   "id": "0ea9515f-9e6a-4d68-bd8b-c19ea90470f1",
   "metadata": {},
   "outputs": [],
   "source": []
  },
  {
   "cell_type": "markdown",
   "id": "b84e86db-7422-4742-b0a6-0ed35266b3c2",
   "metadata": {},
   "source": [
    "### 3. Model Architecture \n",
    "\n",
    "Describe your model architecture and reasoning for why you believe that specific architecture would be suitable for this problem. \n",
    "\n",
    "Since we did not learn NLP-specific techniques such as word embeddings in the lectures, we recommend looking at Kaggle tutorials, discussion boards, and code examples posted for this challenge.  You can use any resources needed, but make sure you “demonstrate” you understood by including explanations in your own words. Also importantly, please have a reference list at the end of the report.  \n",
    "\n",
    "There are many methods to process texts to matrix form (word embedding), including TF-IDF, GloVe, Word2Vec, etc. Pick a strategy and process the raw texts to word embedding. Briefly explain the method(s) and how they work in your own words.\n",
    "\n",
    "Build and train your sequential neural network model (You may use any RNN family neural network, including advanced architectures LSTM, GRU, bidirectional RNN, etc.). "
   ]
  },
  {
   "cell_type": "code",
   "execution_count": null,
   "id": "1c8cddc2-501a-4780-b489-e2c3f591d388",
   "metadata": {},
   "outputs": [],
   "source": []
  },
  {
   "cell_type": "markdown",
   "id": "dcd21a3d-6b0e-4163-a753-6baaa7b2c80f",
   "metadata": {},
   "source": [
    "### 4. Results and Analysis\n",
    "\n",
    "Run hyperparameter tuning, try different architectures for comparison, apply techniques to improve training or performance, and discuss what helped.\n",
    "\n",
    "Includes results with tables and figures. There is an analysis of why or why not something worked well, troubleshooting, and a hyperparameter optimization procedure summary."
   ]
  },
  {
   "cell_type": "code",
   "execution_count": null,
   "id": "2f2ab055-3c28-4f42-acb1-fe02a32809df",
   "metadata": {},
   "outputs": [],
   "source": []
  },
  {
   "cell_type": "markdown",
   "id": "274de69d-2a6a-4ca6-82ad-27fa44049384",
   "metadata": {},
   "source": [
    "### 5. Conclusion (15 pts)\n",
    "\n",
    "Discuss and interpret results as well as learnings and takeaways. What did and did not help improve the performance of your models? What improvements could you try in the future?"
   ]
  },
  {
   "cell_type": "code",
   "execution_count": null,
   "id": "8c10822e-3a3e-4227-b2c8-624c394d2e00",
   "metadata": {},
   "outputs": [],
   "source": []
  },
  {
   "cell_type": "code",
   "execution_count": null,
   "id": "ffccaf2c-3d22-42fd-a2d5-99c8ae78dfea",
   "metadata": {},
   "outputs": [],
   "source": []
  },
  {
   "cell_type": "markdown",
   "id": "c4f1b4a8-5082-4a66-8f5d-407a6edf6de3",
   "metadata": {},
   "source": [
    "### 6. Github Repository"
   ]
  },
  {
   "cell_type": "code",
   "execution_count": null,
   "id": "c981a027-e23f-47fa-8191-862498a9893d",
   "metadata": {},
   "outputs": [],
   "source": []
  }
 ],
 "metadata": {
  "kernelspec": {
   "display_name": "Python 3 (ipykernel)",
   "language": "python",
   "name": "python3"
  },
  "language_info": {
   "codemirror_mode": {
    "name": "ipython",
    "version": 3
   },
   "file_extension": ".py",
   "mimetype": "text/x-python",
   "name": "python",
   "nbconvert_exporter": "python",
   "pygments_lexer": "ipython3",
   "version": "3.9.16"
  }
 },
 "nbformat": 4,
 "nbformat_minor": 5
}
