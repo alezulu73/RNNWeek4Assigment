{
 "cells": [
  {
   "cell_type": "markdown",
   "id": "b541f277-8365-4430-8da3-fdab2bc3b8b3",
   "metadata": {},
   "source": [
    "## Natural Language Processing with Disaster Tweets\n",
    "\n",
    "Predict which Tweets are about real disasters and which ones are not"
   ]
  },
  {
   "cell_type": "code",
   "execution_count": 1,
   "id": "a0a21ffa-2cc3-4832-8ad4-9eaf77c5b323",
   "metadata": {
    "tags": []
   },
   "outputs": [],
   "source": [
    "import numpy as np\n",
    "import pandas as pd\n",
    "import visualkeras\n",
    "import matplotlib.pyplot as plt\n",
    "import tensorflow as tf\n",
    "import re\n",
    "import string\n",
    "import nltk\n",
    "import keras_tuner\n",
    "\n",
    "from sklearn.model_selection import train_test_split\n",
    "from tensorflow.keras import layers\n",
    "\n",
    "from tensorflow.keras.models import Sequential\n",
    "from tensorflow.keras.layers import Activation, Dense, Dropout\n",
    "from tensorflow.keras.layers import SimpleRNN, LSTM, GRU, Embedding, TextVectorization"
   ]
  },
  {
   "cell_type": "markdown",
   "id": "bb7bff4c-cfc0-4bf6-aa26-04cd39842b7a",
   "metadata": {},
   "source": [
    "### 1. Brief description of the problem and data\n",
    "\n",
    "Form [kagle competition web page](https://www.kaggle.com/competitions/nlp-getting-started), we know that \"you’re challenged to build a machine learning model that predicts which Tweets are about real disasters and which one’s aren’t. You’ll have access to a dataset of 10,000 tweets that were hand classified\".\n",
    "\n",
    "Each sample in the train and test set has the following information:\n",
    "\n",
    "1. The text of a tweet\n",
    "2. A keyword from that tweet (although this may be blank!)\n",
    "3. The location the tweet was sent from (may also be blank)\n",
    "\n",
    "Reading the csv files, we identify five columns, the three previously mentioned, one more for the target and one for de id. The test dataset has the same columns except for the tarjet column, which is the one we should predict with pur RNN design. "
   ]
  },
  {
   "cell_type": "code",
   "execution_count": 2,
   "id": "e4fad06f-4f17-4811-849e-a266f764fa08",
   "metadata": {},
   "outputs": [],
   "source": [
    "train_df = pd.read_csv(\"data/train.csv\")\n",
    "test_df = pd.read_csv(\"data/test.csv\")"
   ]
  },
  {
   "cell_type": "code",
   "execution_count": 3,
   "id": "54df1899-d5e1-4896-935f-79866da1c644",
   "metadata": {},
   "outputs": [
    {
     "data": {
      "text/html": [
       "<div>\n",
       "<style scoped>\n",
       "    .dataframe tbody tr th:only-of-type {\n",
       "        vertical-align: middle;\n",
       "    }\n",
       "\n",
       "    .dataframe tbody tr th {\n",
       "        vertical-align: top;\n",
       "    }\n",
       "\n",
       "    .dataframe thead th {\n",
       "        text-align: right;\n",
       "    }\n",
       "</style>\n",
       "<table border=\"1\" class=\"dataframe\">\n",
       "  <thead>\n",
       "    <tr style=\"text-align: right;\">\n",
       "      <th></th>\n",
       "      <th>id</th>\n",
       "      <th>keyword</th>\n",
       "      <th>location</th>\n",
       "      <th>text</th>\n",
       "      <th>target</th>\n",
       "    </tr>\n",
       "  </thead>\n",
       "  <tbody>\n",
       "    <tr>\n",
       "      <th>0</th>\n",
       "      <td>1</td>\n",
       "      <td>NaN</td>\n",
       "      <td>NaN</td>\n",
       "      <td>Our Deeds are the Reason of this #earthquake M...</td>\n",
       "      <td>1</td>\n",
       "    </tr>\n",
       "    <tr>\n",
       "      <th>1</th>\n",
       "      <td>4</td>\n",
       "      <td>NaN</td>\n",
       "      <td>NaN</td>\n",
       "      <td>Forest fire near La Ronge Sask. Canada</td>\n",
       "      <td>1</td>\n",
       "    </tr>\n",
       "    <tr>\n",
       "      <th>2</th>\n",
       "      <td>5</td>\n",
       "      <td>NaN</td>\n",
       "      <td>NaN</td>\n",
       "      <td>All residents asked to 'shelter in place' are ...</td>\n",
       "      <td>1</td>\n",
       "    </tr>\n",
       "    <tr>\n",
       "      <th>3</th>\n",
       "      <td>6</td>\n",
       "      <td>NaN</td>\n",
       "      <td>NaN</td>\n",
       "      <td>13,000 people receive #wildfires evacuation or...</td>\n",
       "      <td>1</td>\n",
       "    </tr>\n",
       "    <tr>\n",
       "      <th>4</th>\n",
       "      <td>7</td>\n",
       "      <td>NaN</td>\n",
       "      <td>NaN</td>\n",
       "      <td>Just got sent this photo from Ruby #Alaska as ...</td>\n",
       "      <td>1</td>\n",
       "    </tr>\n",
       "    <tr>\n",
       "      <th>...</th>\n",
       "      <td>...</td>\n",
       "      <td>...</td>\n",
       "      <td>...</td>\n",
       "      <td>...</td>\n",
       "      <td>...</td>\n",
       "    </tr>\n",
       "    <tr>\n",
       "      <th>7608</th>\n",
       "      <td>10869</td>\n",
       "      <td>NaN</td>\n",
       "      <td>NaN</td>\n",
       "      <td>Two giant cranes holding a bridge collapse int...</td>\n",
       "      <td>1</td>\n",
       "    </tr>\n",
       "    <tr>\n",
       "      <th>7609</th>\n",
       "      <td>10870</td>\n",
       "      <td>NaN</td>\n",
       "      <td>NaN</td>\n",
       "      <td>@aria_ahrary @TheTawniest The out of control w...</td>\n",
       "      <td>1</td>\n",
       "    </tr>\n",
       "    <tr>\n",
       "      <th>7610</th>\n",
       "      <td>10871</td>\n",
       "      <td>NaN</td>\n",
       "      <td>NaN</td>\n",
       "      <td>M1.94 [01:04 UTC]?5km S of Volcano Hawaii. htt...</td>\n",
       "      <td>1</td>\n",
       "    </tr>\n",
       "    <tr>\n",
       "      <th>7611</th>\n",
       "      <td>10872</td>\n",
       "      <td>NaN</td>\n",
       "      <td>NaN</td>\n",
       "      <td>Police investigating after an e-bike collided ...</td>\n",
       "      <td>1</td>\n",
       "    </tr>\n",
       "    <tr>\n",
       "      <th>7612</th>\n",
       "      <td>10873</td>\n",
       "      <td>NaN</td>\n",
       "      <td>NaN</td>\n",
       "      <td>The Latest: More Homes Razed by Northern Calif...</td>\n",
       "      <td>1</td>\n",
       "    </tr>\n",
       "  </tbody>\n",
       "</table>\n",
       "<p>7613 rows × 5 columns</p>\n",
       "</div>"
      ],
      "text/plain": [
       "         id keyword location  \\\n",
       "0         1     NaN      NaN   \n",
       "1         4     NaN      NaN   \n",
       "2         5     NaN      NaN   \n",
       "3         6     NaN      NaN   \n",
       "4         7     NaN      NaN   \n",
       "...     ...     ...      ...   \n",
       "7608  10869     NaN      NaN   \n",
       "7609  10870     NaN      NaN   \n",
       "7610  10871     NaN      NaN   \n",
       "7611  10872     NaN      NaN   \n",
       "7612  10873     NaN      NaN   \n",
       "\n",
       "                                                   text  target  \n",
       "0     Our Deeds are the Reason of this #earthquake M...       1  \n",
       "1                Forest fire near La Ronge Sask. Canada       1  \n",
       "2     All residents asked to 'shelter in place' are ...       1  \n",
       "3     13,000 people receive #wildfires evacuation or...       1  \n",
       "4     Just got sent this photo from Ruby #Alaska as ...       1  \n",
       "...                                                 ...     ...  \n",
       "7608  Two giant cranes holding a bridge collapse int...       1  \n",
       "7609  @aria_ahrary @TheTawniest The out of control w...       1  \n",
       "7610  M1.94 [01:04 UTC]?5km S of Volcano Hawaii. htt...       1  \n",
       "7611  Police investigating after an e-bike collided ...       1  \n",
       "7612  The Latest: More Homes Razed by Northern Calif...       1  \n",
       "\n",
       "[7613 rows x 5 columns]"
      ]
     },
     "execution_count": 3,
     "metadata": {},
     "output_type": "execute_result"
    }
   ],
   "source": [
    "train_df"
   ]
  },
  {
   "cell_type": "code",
   "execution_count": 4,
   "id": "fb6b5e31-99f1-4440-b098-6d29cc0666f1",
   "metadata": {},
   "outputs": [
    {
     "data": {
      "text/html": [
       "<div>\n",
       "<style scoped>\n",
       "    .dataframe tbody tr th:only-of-type {\n",
       "        vertical-align: middle;\n",
       "    }\n",
       "\n",
       "    .dataframe tbody tr th {\n",
       "        vertical-align: top;\n",
       "    }\n",
       "\n",
       "    .dataframe thead th {\n",
       "        text-align: right;\n",
       "    }\n",
       "</style>\n",
       "<table border=\"1\" class=\"dataframe\">\n",
       "  <thead>\n",
       "    <tr style=\"text-align: right;\">\n",
       "      <th></th>\n",
       "      <th>id</th>\n",
       "      <th>keyword</th>\n",
       "      <th>location</th>\n",
       "      <th>text</th>\n",
       "    </tr>\n",
       "  </thead>\n",
       "  <tbody>\n",
       "    <tr>\n",
       "      <th>0</th>\n",
       "      <td>0</td>\n",
       "      <td>NaN</td>\n",
       "      <td>NaN</td>\n",
       "      <td>Just happened a terrible car crash</td>\n",
       "    </tr>\n",
       "    <tr>\n",
       "      <th>1</th>\n",
       "      <td>2</td>\n",
       "      <td>NaN</td>\n",
       "      <td>NaN</td>\n",
       "      <td>Heard about #earthquake is different cities, s...</td>\n",
       "    </tr>\n",
       "    <tr>\n",
       "      <th>2</th>\n",
       "      <td>3</td>\n",
       "      <td>NaN</td>\n",
       "      <td>NaN</td>\n",
       "      <td>there is a forest fire at spot pond, geese are...</td>\n",
       "    </tr>\n",
       "    <tr>\n",
       "      <th>3</th>\n",
       "      <td>9</td>\n",
       "      <td>NaN</td>\n",
       "      <td>NaN</td>\n",
       "      <td>Apocalypse lighting. #Spokane #wildfires</td>\n",
       "    </tr>\n",
       "    <tr>\n",
       "      <th>4</th>\n",
       "      <td>11</td>\n",
       "      <td>NaN</td>\n",
       "      <td>NaN</td>\n",
       "      <td>Typhoon Soudelor kills 28 in China and Taiwan</td>\n",
       "    </tr>\n",
       "    <tr>\n",
       "      <th>...</th>\n",
       "      <td>...</td>\n",
       "      <td>...</td>\n",
       "      <td>...</td>\n",
       "      <td>...</td>\n",
       "    </tr>\n",
       "    <tr>\n",
       "      <th>3258</th>\n",
       "      <td>10861</td>\n",
       "      <td>NaN</td>\n",
       "      <td>NaN</td>\n",
       "      <td>EARTHQUAKE SAFETY LOS ANGELES ÛÒ SAFETY FASTE...</td>\n",
       "    </tr>\n",
       "    <tr>\n",
       "      <th>3259</th>\n",
       "      <td>10865</td>\n",
       "      <td>NaN</td>\n",
       "      <td>NaN</td>\n",
       "      <td>Storm in RI worse than last hurricane. My city...</td>\n",
       "    </tr>\n",
       "    <tr>\n",
       "      <th>3260</th>\n",
       "      <td>10868</td>\n",
       "      <td>NaN</td>\n",
       "      <td>NaN</td>\n",
       "      <td>Green Line derailment in Chicago http://t.co/U...</td>\n",
       "    </tr>\n",
       "    <tr>\n",
       "      <th>3261</th>\n",
       "      <td>10874</td>\n",
       "      <td>NaN</td>\n",
       "      <td>NaN</td>\n",
       "      <td>MEG issues Hazardous Weather Outlook (HWO) htt...</td>\n",
       "    </tr>\n",
       "    <tr>\n",
       "      <th>3262</th>\n",
       "      <td>10875</td>\n",
       "      <td>NaN</td>\n",
       "      <td>NaN</td>\n",
       "      <td>#CityofCalgary has activated its Municipal Eme...</td>\n",
       "    </tr>\n",
       "  </tbody>\n",
       "</table>\n",
       "<p>3263 rows × 4 columns</p>\n",
       "</div>"
      ],
      "text/plain": [
       "         id keyword location  \\\n",
       "0         0     NaN      NaN   \n",
       "1         2     NaN      NaN   \n",
       "2         3     NaN      NaN   \n",
       "3         9     NaN      NaN   \n",
       "4        11     NaN      NaN   \n",
       "...     ...     ...      ...   \n",
       "3258  10861     NaN      NaN   \n",
       "3259  10865     NaN      NaN   \n",
       "3260  10868     NaN      NaN   \n",
       "3261  10874     NaN      NaN   \n",
       "3262  10875     NaN      NaN   \n",
       "\n",
       "                                                   text  \n",
       "0                    Just happened a terrible car crash  \n",
       "1     Heard about #earthquake is different cities, s...  \n",
       "2     there is a forest fire at spot pond, geese are...  \n",
       "3              Apocalypse lighting. #Spokane #wildfires  \n",
       "4         Typhoon Soudelor kills 28 in China and Taiwan  \n",
       "...                                                 ...  \n",
       "3258  EARTHQUAKE SAFETY LOS ANGELES ÛÒ SAFETY FASTE...  \n",
       "3259  Storm in RI worse than last hurricane. My city...  \n",
       "3260  Green Line derailment in Chicago http://t.co/U...  \n",
       "3261  MEG issues Hazardous Weather Outlook (HWO) htt...  \n",
       "3262  #CityofCalgary has activated its Municipal Eme...  \n",
       "\n",
       "[3263 rows x 4 columns]"
      ]
     },
     "execution_count": 4,
     "metadata": {},
     "output_type": "execute_result"
    }
   ],
   "source": [
    "test_df"
   ]
  },
  {
   "cell_type": "markdown",
   "id": "a939dd51-83f7-4fb0-80c1-fbde3d1dc9c5",
   "metadata": {},
   "source": [
    "### 2. Exploratory Data Analysis (EDA) — Inspect, Visualize and Clean the Data \n",
    "\n",
    "Show a few visualizations like histograms. Describe any data cleaning procedures. Based on your EDA, what is your plan of analysis? "
   ]
  },
  {
   "cell_type": "markdown",
   "id": "314c24bf-0586-4437-9b2b-113ef4948159",
   "metadata": {},
   "source": [
    "Inspecting the train dataset, we have a total of 7613 tweets registered. From the plot we confirm that the number of records in each category is not so unbalanced."
   ]
  },
  {
   "cell_type": "code",
   "execution_count": 5,
   "id": "fce9ae43-5fae-4657-87ed-01c29b3cad17",
   "metadata": {},
   "outputs": [
    {
     "data": {
      "text/plain": [
       "(7613, 5)"
      ]
     },
     "execution_count": 5,
     "metadata": {},
     "output_type": "execute_result"
    }
   ],
   "source": [
    "train_df.shape"
   ]
  },
  {
   "cell_type": "code",
   "execution_count": 6,
   "id": "1db3950b-c33e-4aa6-8a81-276cc68f1541",
   "metadata": {},
   "outputs": [
    {
     "data": {
      "text/plain": [
       "<Axes: xlabel='target'>"
      ]
     },
     "execution_count": 6,
     "metadata": {},
     "output_type": "execute_result"
    },
    {
     "data": {
      "image/png": "[encoded data removed]",
      "text/plain": [
       "<Figure size 640x480 with 1 Axes>"
      ]
     },
     "metadata": {},
     "output_type": "display_data"
    }
   ],
   "source": [
    "total_train = train_df.groupby(\"target\").count()\n",
    "\n",
    "total_train[\"id\"].plot.bar()"
   ]
  },
  {
   "cell_type": "markdown",
   "id": "2e8d470b-3772-4c2b-9830-17866ddda9de",
   "metadata": {},
   "source": [
    "On the other hand, the data for test are in total 3263 registers, wwhich represents 30% of the dataset of the 10876 registers. "
   ]
  },
  {
   "cell_type": "code",
   "execution_count": 7,
   "id": "5ade3259-5f50-4261-a660-f3b0b694ffb7",
   "metadata": {},
   "outputs": [
    {
     "data": {
      "text/plain": [
       "(3263, 4)"
      ]
     },
     "execution_count": 7,
     "metadata": {},
     "output_type": "execute_result"
    }
   ],
   "source": [
    "test_df.shape"
   ]
  },
  {
   "cell_type": "code",
   "execution_count": 8,
   "id": "0ea9515f-9e6a-4d68-bd8b-c19ea90470f1",
   "metadata": {},
   "outputs": [
    {
     "data": {
      "text/plain": [
       "10876"
      ]
     },
     "execution_count": 8,
     "metadata": {},
     "output_type": "execute_result"
    }
   ],
   "source": [
    "(3263+7613)"
   ]
  },
  {
   "cell_type": "markdown",
   "id": "f9a0cff1-a316-4a3a-bef4-f2a664e9cc5d",
   "metadata": {},
   "source": [
    "The column _text_ is the core for the analysis. Let's take a look to the data that is not a real disaster.  "
   ]
  },
  {
   "cell_type": "code",
   "execution_count": 9,
   "id": "892a9d41-f17f-479a-a85b-576c2a9f6d6e",
   "metadata": {},
   "outputs": [
    {
     "data": {
      "text/plain": [
       "15                                       What's up man?\n",
       "16                                        I love fruits\n",
       "17                                     Summer is lovely\n",
       "18                                    My car is so fast\n",
       "19                         What a goooooooaaaaaal!!!!!!\n",
       "20                               this is ridiculous....\n",
       "21                                    London is cool ;)\n",
       "22                                          Love skiing\n",
       "23                                What a wonderful day!\n",
       "24                                             LOOOOOOL\n",
       "25                       No way...I can't eat that shit\n",
       "26                                Was in NYC last week!\n",
       "27                                   Love my girlfriend\n",
       "28                                            Cooool :)\n",
       "29                                   Do you like pasta?\n",
       "30                                             The end!\n",
       "32    We always try to bring the heavy. #metal #RT h...\n",
       "34                   Crying out for more! Set me ablaze\n",
       "35    On plus side LOOK AT THE SKY LAST NIGHT IT WAS...\n",
       "36    @PhDSquares #mufc they've built so much hype a...\n",
       "Name: text, dtype: object"
      ]
     },
     "execution_count": 9,
     "metadata": {},
     "output_type": "execute_result"
    }
   ],
   "source": [
    "train_df[train_df[\"target\"] == 0][\"text\"].head(20)"
   ]
  },
  {
   "cell_type": "markdown",
   "id": "84e04f03-8dd9-4952-ae57-59e2b2bfa01b",
   "metadata": {},
   "source": [
    "Now, the data that really is a disaster."
   ]
  },
  {
   "cell_type": "code",
   "execution_count": 10,
   "id": "1a355810-b8c2-4cbb-a219-3a9a333322cc",
   "metadata": {},
   "outputs": [
    {
     "data": {
      "text/plain": [
       "0     Our Deeds are the Reason of this #earthquake M...\n",
       "1                Forest fire near La Ronge Sask. Canada\n",
       "2     All residents asked to 'shelter in place' are ...\n",
       "3     13,000 people receive #wildfires evacuation or...\n",
       "4     Just got sent this photo from Ruby #Alaska as ...\n",
       "5     #RockyFire Update => California Hwy. 20 closed...\n",
       "6     #flood #disaster Heavy rain causes flash flood...\n",
       "7     I'm on top of the hill and I can see a fire in...\n",
       "8     There's an emergency evacuation happening now ...\n",
       "9     I'm afraid that the tornado is coming to our a...\n",
       "10          Three people died from the heat wave so far\n",
       "11    Haha South Tampa is getting flooded hah- WAIT ...\n",
       "12    #raining #flooding #Florida #TampaBay #Tampa 1...\n",
       "13              #Flood in Bago Myanmar #We arrived Bago\n",
       "14    Damage to school bus on 80 in multi car crash ...\n",
       "31    @bbcmtd Wholesale Markets ablaze http://t.co/l...\n",
       "33    #AFRICANBAZE: Breaking news:Nigeria flag set a...\n",
       "37    INEC Office in Abia Set Ablaze - http://t.co/3...\n",
       "38    Barbados #Bridgetown JAMAICA ÛÒ Two cars set ...\n",
       "46    How the West was burned: Thousands of wildfire...\n",
       "Name: text, dtype: object"
      ]
     },
     "execution_count": 10,
     "metadata": {},
     "output_type": "execute_result"
    }
   ],
   "source": [
    "train_df[train_df[\"target\"] == 1][\"text\"].head(20)"
   ]
  },
  {
   "cell_type": "code",
   "execution_count": 11,
   "id": "d2739c6c-98ea-4b55-8c90-3a1addc7bb3a",
   "metadata": {},
   "outputs": [
    {
     "data": {
      "text/plain": [
       "0                    Just happened a terrible car crash\n",
       "1     Heard about #earthquake is different cities, s...\n",
       "2     there is a forest fire at spot pond, geese are...\n",
       "3              Apocalypse lighting. #Spokane #wildfires\n",
       "4         Typhoon Soudelor kills 28 in China and Taiwan\n",
       "5                    We're shaking...It's an earthquake\n",
       "6     They'd probably still show more life than Arse...\n",
       "7                                     Hey! How are you?\n",
       "8                                      What a nice hat?\n",
       "9                                             Fuck off!\n",
       "10                                No I don't like cold!\n",
       "11                           NOOOOOOOOO! Don't do that!\n",
       "12                               No don't tell me that!\n",
       "13                                            What if?!\n",
       "14                                             Awesome!\n",
       "15    Birmingham Wholesale Market is ablaze BBC News...\n",
       "16    @sunkxssedharry will you wear shorts for race ...\n",
       "17    #PreviouslyOnDoyinTv: Toke MakinwaÛªs marriag...\n",
       "18    Check these out: http://t.co/rOI2NSmEJJ http:/...\n",
       "19    PSA: IÛªm splitting my personalities.\\n\\n?? t...\n",
       "Name: text, dtype: object"
      ]
     },
     "execution_count": 11,
     "metadata": {},
     "output_type": "execute_result"
    }
   ],
   "source": [
    "test_df[\"text\"].head(20)"
   ]
  },
  {
   "cell_type": "code",
   "execution_count": 12,
   "id": "4c42d2ba-ed68-49be-a96f-49b1764eb72a",
   "metadata": {},
   "outputs": [],
   "source": [
    "from nltk.corpus import stopwords\n",
    "stop_words = stopwords.words('english')\n",
    "def custom_filter(content):\n",
    "    text = re.sub(r\"\\bhttp\",\" \",content)\n",
    "    text = re.sub(r\"[^a-zA-Z]\", \" \", text)\n",
    "    text = re.sub(\"\\d\",\" \",text)\n",
    "    text = re.sub(\"\\W\",\" \",text)\n",
    "    text = text.lower()\n",
    "    text = text.translate(str.maketrans(\"\",\"\", string.punctuation))\n",
    "    text = text.split()\n",
    "    text = [word for word in text if not word in stop_words]\n",
    "    text = ' '.join(filter(str.isalpha, text))\n",
    "    return text\n",
    "\n"
   ]
  },
  {
   "cell_type": "code",
   "execution_count": 13,
   "id": "304e9807-3a3e-4ca7-a461-ddb4788212a6",
   "metadata": {},
   "outputs": [],
   "source": [
    "train_df['text']= train_df['text'].apply(custom_filter)\n",
    "test_df['text']= test_df['text'].apply(custom_filter)"
   ]
  },
  {
   "cell_type": "code",
   "execution_count": 14,
   "id": "331ffc36-6441-40cf-a9cd-7792394d845b",
   "metadata": {},
   "outputs": [
    {
     "data": {
      "text/plain": [
       "15                                                  man\n",
       "16                                          love fruits\n",
       "17                                        summer lovely\n",
       "18                                             car fast\n",
       "19                                      goooooooaaaaaal\n",
       "20                                           ridiculous\n",
       "21                                          london cool\n",
       "22                                          love skiing\n",
       "23                                        wonderful day\n",
       "24                                             looooool\n",
       "25                                         way eat shit\n",
       "26                                        nyc last week\n",
       "27                                      love girlfriend\n",
       "28                                               cooool\n",
       "29                                           like pasta\n",
       "30                                                  end\n",
       "32        always try bring heavy metal rt co yao e xngw\n",
       "34                                    crying set ablaze\n",
       "35    plus side look sky last night ablaze co qqsmsh...\n",
       "36    phdsquares mufc built much hype around new acq...\n",
       "Name: text, dtype: object"
      ]
     },
     "execution_count": 14,
     "metadata": {},
     "output_type": "execute_result"
    }
   ],
   "source": [
    "train_df[train_df[\"target\"] == 0][\"text\"].head(20)"
   ]
  },
  {
   "cell_type": "code",
   "execution_count": 15,
   "id": "c75a71af-99b5-411d-8850-b4d9cbcc2b0f",
   "metadata": {},
   "outputs": [
    {
     "data": {
      "text/plain": [
       "0          deeds reason earthquake may allah forgive us\n",
       "1                 forest fire near la ronge sask canada\n",
       "2     residents asked shelter place notified officer...\n",
       "3     people receive wildfires evacuation orders cal...\n",
       "4     got sent photo ruby alaska smoke wildfires pou...\n",
       "5     rockyfire update california hwy closed directi...\n",
       "6     flood disaster heavy rain causes flash floodin...\n",
       "7                               top hill see fire woods\n",
       "8     emergency evacuation happening building across...\n",
       "9                            afraid tornado coming area\n",
       "10                      three people died heat wave far\n",
       "11    haha south tampa getting flooded hah wait seco...\n",
       "12    raining flooding florida tampabay tampa days l...\n",
       "13                      flood bago myanmar arrived bago\n",
       "14           damage school bus multi car crash breaking\n",
       "31        bbcmtd wholesale markets ablaze co lhyxeohy c\n",
       "33    africanbaze breaking news nigeria flag set abl...\n",
       "37             inec office abia set ablaze co imaomknna\n",
       "38    barbados bridgetown jamaica two cars set ablaz...\n",
       "46    west burned thousands wildfires ablaze califor...\n",
       "Name: text, dtype: object"
      ]
     },
     "execution_count": 15,
     "metadata": {},
     "output_type": "execute_result"
    }
   ],
   "source": [
    "train_df[train_df[\"target\"] == 1][\"text\"].head(20)"
   ]
  },
  {
   "cell_type": "code",
   "execution_count": 16,
   "id": "fdffec2d-1e3e-4650-82a5-a40d4ba4415b",
   "metadata": {},
   "outputs": [
    {
     "data": {
      "text/plain": [
       "0                           happened terrible car crash\n",
       "1     heard earthquake different cities stay safe ev...\n",
       "2     forest fire spot pond geese fleeing across str...\n",
       "3                 apocalypse lighting spokane wildfires\n",
       "4                   typhoon soudelor kills china taiwan\n",
       "5                                    shaking earthquake\n",
       "6      probably still show life arsenal yesterday eh eh\n",
       "7                                                   hey\n",
       "8                                              nice hat\n",
       "9                                                  fuck\n",
       "10                                            like cold\n",
       "11                                           nooooooooo\n",
       "12                                                 tell\n",
       "13                                                     \n",
       "14                                              awesome\n",
       "15    birmingham wholesale market ablaze bbc news fi...\n",
       "16               sunkxssedharry wear shorts race ablaze\n",
       "17    previouslyondoyintv toke makinwa marriage cris...\n",
       "18    check co roi nsmejj co tj zjin co yduixefipe c...\n",
       "19    psa splitting personalities techies follow abl...\n",
       "Name: text, dtype: object"
      ]
     },
     "execution_count": 16,
     "metadata": {},
     "output_type": "execute_result"
    }
   ],
   "source": [
    "test_df[\"text\"].head(20)"
   ]
  },
  {
   "cell_type": "markdown",
   "id": "b84e86db-7422-4742-b0a6-0ed35266b3c2",
   "metadata": {},
   "source": [
    "### 3. Model Architecture \n",
    "\n",
    "Describe your model architecture and reasoning for why you believe that specific architecture would be suitable for this problem. \n",
    "\n",
    "Since we did not learn NLP-specific techniques such as word embeddings in the lectures, we recommend looking at Kaggle tutorials, discussion boards, and code examples posted for this challenge.  You can use any resources needed, but make sure you “demonstrate” you understood by including explanations in your own words. Also importantly, please have a reference list at the end of the report.  \n",
    "\n",
    "There are many methods to process texts to matrix form (word embedding), including TF-IDF, GloVe, Word2Vec, etc. Pick a strategy and process the raw texts to word embedding. Briefly explain the method(s) and how they work in your own words.\n",
    "\n",
    "Build and train your sequential neural network model (You may use any RNN family neural network, including advanced architectures LSTM, GRU, bidirectional RNN, etc.). "
   ]
  },
  {
   "cell_type": "markdown",
   "id": "24f07fb4-1bba-4c61-b952-1637c99a1aa4",
   "metadata": {},
   "source": [
    "Unlike last week's use of images, text processing tends to be more complicated. We must transform the text strings into something that the computer can understand. According to [Word Embedding Techniques: Word2Vec and TF-IDF Explained](https://towardsdatascience.com/word-embedding-techniques-word2vec-and-tf-idf-explained-c5d02e34d08), \"the word embedding techniques are used to represent words mathematically\". We can use techniques like:\n",
    "1. One Hot Encoding\n",
    "2. TF-IDF\n",
    "3. Word2Vec\n",
    "4. FastText\n",
    "\n",
    "The algorithm that seems most convenient for the type of classification we want to carry out is to convert form a string to a vector, like in the Word2Vec. This is because we can create a vocabulary from the same raw text inputs and use this vocabulary to create a vector. This allow us to evaluate the semantic closeness of the words. We are going to use the TextVetorization laker from keras. But first, we have to build our train, validation and test data. We shuffle the samples from the train set and the labels, using the same seed. Also we have to splitting the train set further into validation and new train sets. \n"
   ]
  },
  {
   "cell_type": "code",
   "execution_count": 17,
   "id": "0027345b-33df-46ff-a1c2-136151158d7b",
   "metadata": {},
   "outputs": [],
   "source": [
    "samples = train_df[\"text\"]\n",
    "labels = train_df[\"target\"]\n",
    "test_samples = test_df[\"text\"]\n",
    "\n",
    "train_samples, val_samples, train_targets, val_targets = train_test_split(\n",
    "        samples, labels,\n",
    "        train_size=0.8,\n",
    "        random_state=42,\n",
    "        shuffle = True,\n",
    "        stratify=labels\n",
    "    )\n",
    "\n"
   ]
  },
  {
   "cell_type": "markdown",
   "id": "73b6ac6a-4ecd-4dfd-97be-bcd2a2e5a511",
   "metadata": {},
   "source": [
    "We use a 20% spliting factor. We have 6090 registers for training and 1523 for validation. For test and sumission results we have 3263 samples."
   ]
  },
  {
   "cell_type": "code",
   "execution_count": 18,
   "id": "5e796362-8112-41fd-91e7-d4ba70301154",
   "metadata": {},
   "outputs": [
    {
     "data": {
      "text/plain": [
       "(6090,)"
      ]
     },
     "execution_count": 18,
     "metadata": {},
     "output_type": "execute_result"
    }
   ],
   "source": [
    "train_samples.shape"
   ]
  },
  {
   "cell_type": "code",
   "execution_count": 19,
   "id": "e542e151-ee4d-4fa1-ab24-a248180792b3",
   "metadata": {},
   "outputs": [
    {
     "data": {
      "text/plain": [
       "(1523,)"
      ]
     },
     "execution_count": 19,
     "metadata": {},
     "output_type": "execute_result"
    }
   ],
   "source": [
    "val_samples.shape"
   ]
  },
  {
   "cell_type": "code",
   "execution_count": 20,
   "id": "0c9435e5-b7b8-47f2-9be9-bb7620133d15",
   "metadata": {},
   "outputs": [
    {
     "data": {
      "text/plain": [
       "(3263,)"
      ]
     },
     "execution_count": 20,
     "metadata": {},
     "output_type": "execute_result"
    }
   ],
   "source": [
    "test_samples.shape"
   ]
  },
  {
   "cell_type": "markdown",
   "id": "e55824c5-3b83-4bd2-9795-242f221312d0",
   "metadata": {},
   "source": [
    "We transform the data to tensor dataset to optimize the process"
   ]
  },
  {
   "cell_type": "code",
   "execution_count": 21,
   "id": "c66ada3b-8c92-4465-8fa2-9c92f16c5dac",
   "metadata": {},
   "outputs": [],
   "source": [
    "batch_size=20\n",
    "\n",
    "train_data= tf.data.Dataset.from_tensor_slices((train_samples.to_numpy(), train_targets.to_numpy())) \n",
    "val_data = tf.data.Dataset.from_tensor_slices((val_samples.to_numpy(),val_targets.to_numpy()))\n",
    "test_data = tf.data.Dataset.from_tensor_slices((test_samples.to_numpy()))\n",
    "train_all = tf.data.Dataset.from_tensor_slices((samples.to_numpy(), labels.to_numpy()))\n",
    "\n",
    "train_data = train_data.shuffle(10000).batch(batch_size).prefetch(tf.data.AUTOTUNE)\n",
    "val_data = val_data.batch(batch_size).prefetch(tf.data.AUTOTUNE)\n",
    "test_data = test_data.batch(batch_size).prefetch(tf.data.AUTOTUNE)\n",
    "train_all = train_all.batch(batch_size).prefetch(tf.data.AUTOTUNE)"
   ]
  },
  {
   "cell_type": "markdown",
   "id": "efbd1c9c-cbe9-40ec-bded-eecf8b8f2ae6",
   "metadata": {},
   "source": [
    "We can inspect some of the samples. "
   ]
  },
  {
   "cell_type": "code",
   "execution_count": 22,
   "id": "0acb06aa-6ce7-4815-8ef9-016a18cd8efc",
   "metadata": {},
   "outputs": [
    {
     "name": "stdout",
     "output_type": "stream",
     "text": [
      "Text:  [b'x counter acts burning alexandrian library'\n",
      " b'bigamist first wife charged deaths second pregnant wife child mothe co rteugb tnv'\n",
      " b'mickinyman theatlantic might killed airplane accident night car wreck politics best'\n",
      " b'breaking firefighters battling blaze east cary condo building co mim hh ce'\n",
      " b'thinking time friend bailed nite b dead show went alone amp great time alone free dance front row'\n",
      " b'kiranahmedd us military nato fighting talibans'\n",
      " b'secrets storm vortex lightning catcher book co oiywrzl z'\n",
      " b'hail user summons hailstorm lasting five turns damages pokemon except ice type'\n",
      " b'lets collide untill fill space' b'taaylordarr thank survived'\n",
      " b'notley tactful yet direct response harper attack alberta gov hell yeah premier co rzsulzmokx ableg cdnpoli'\n",
      " b'coming later year man tattooed women novel based real serial killer arkansas amp natural disaster nola'\n",
      " b'next financial crash writing wall say warned co h ldx aba'\n",
      " b'doves storm greatest denier electric proms pt co xjtpv oydl'\n",
      " b'finnish ministers fennovoima nuclear reactor go ahead via r worldnews co frkodestuk'\n",
      " b'escape heat orshow trail run desolation loop glad co n ucnzh p co vu fwymw r'\n",
      " b'new snap tools black baseball hat cap silver gray embroidered logo flames full co u wao asfg co hc hzs wsi'\n",
      " b'funkylilshack mariaf want full bitch slapping guns blazing cake throwing charles showdown worth wait'\n",
      " b'guy whistled parking lot amp help wind blew skirt getting car'\n",
      " b'years ago hour usa bombed hiroshima therein killing civilians never forget crime never repeat peace']\n",
      "Label:  [1 1 0 1 0 1 0 0 0 0 1 1 0 1 0 0 0 0 0 1]\n"
     ]
    }
   ],
   "source": [
    "for text,label in train_data.take(1):\n",
    "    print('Text: ',text.numpy())\n",
    "    print('Label: ',label.numpy())"
   ]
  },
  {
   "cell_type": "markdown",
   "id": "6cf4a330-48d4-404f-a6aa-1f1cbf68dca2",
   "metadata": {},
   "source": [
    "We create our Textvectorization layer. Let´s see the percentile estimate for the train set. The recommendation from keras documentation is that a good enough approximate for the maximum sequence length, is the 50% value. In these case we have a maximun sequence of 15. "
   ]
  },
  {
   "cell_type": "code",
   "execution_count": 23,
   "id": "0ad0aa84-5dae-4629-951e-bc333fbfc40e",
   "metadata": {},
   "outputs": [
    {
     "data": {
      "text/plain": [
       "count    7613.000000\n",
       "mean       10.952712\n",
       "std         4.045897\n",
       "min         1.000000\n",
       "25%         8.000000\n",
       "50%        11.000000\n",
       "75%        14.000000\n",
       "max        25.000000\n",
       "Name: text, dtype: float64"
      ]
     },
     "execution_count": 23,
     "metadata": {},
     "output_type": "execute_result"
    }
   ],
   "source": [
    "train_df[\"text\"].apply(lambda x: len(x.split(\" \"))).describe()"
   ]
  },
  {
   "cell_type": "markdown",
   "id": "24b6d3aa-dacf-4f1b-8518-44d3c2e5d4fb",
   "metadata": {},
   "source": [
    "Next step, define the vectorization layer. "
   ]
  },
  {
   "cell_type": "code",
   "execution_count": 24,
   "id": "9ea07e67-d317-4574-b3f7-2c52c9c5677e",
   "metadata": {},
   "outputs": [],
   "source": [
    "max_len = 15\n",
    "max_features = 20000 \n",
    "\n",
    "vectorize_layer = TextVectorization(\n",
    "    max_tokens = max_features, \n",
    "    output_mode = \"int\", \n",
    "    output_sequence_length = max_len)\n",
    "\n",
    "#vectorize_layer.adapt(train_data.map(lambda text, label: text))\n",
    "vectorize_layer.adapt(train_df[\"text\"])  #using all train dataset."
   ]
  },
  {
   "cell_type": "markdown",
   "id": "9dd4c2e8-f1a6-4c57-85a0-40fecf025a60",
   "metadata": {},
   "source": [
    "We can visualize the first word fo our vocabulary."
   ]
  },
  {
   "cell_type": "code",
   "execution_count": 25,
   "id": "4f3bbc6b-1032-45be-9928-b6cfc6be2b4b",
   "metadata": {},
   "outputs": [
    {
     "data": {
      "text/plain": [
       "['', '[UNK]', 'co', 'like', 'amp', 'fire', 'get', 'new', 'via', 'u']"
      ]
     },
     "execution_count": 25,
     "metadata": {},
     "output_type": "execute_result"
    }
   ],
   "source": [
    "vectorize_layer.get_vocabulary()[:10]\n"
   ]
  },
  {
   "cell_type": "markdown",
   "id": "e1000b8d-4896-4060-a5a8-af25c4ab1f36",
   "metadata": {},
   "source": [
    "Load pre-trained word embeddings"
   ]
  },
  {
   "cell_type": "markdown",
   "id": "20dbff28-7a03-42e4-bd99-2690e6a74e11",
   "metadata": {},
   "source": [
    "For the vectorization, we apply it to the text dataset to obtain a dataset of word indices, then feed it into a model that expects integer sequences as input, according to recommendation of [keras guide](https://keras.io/examples/nlp/text_classification_from_scratch/) for asynchronous CPU processing and buffering."
   ]
  },
  {
   "cell_type": "code",
   "execution_count": 26,
   "id": "121048a9-2dcd-4de2-ad11-c1a96f6bb5d8",
   "metadata": {},
   "outputs": [],
   "source": [
    "def vectorize_text(text, label):\n",
    "    text = tf.expand_dims(text, -1)\n",
    "    return vectorize_layer(text), label\n",
    "\n",
    "\n",
    "# Vectorize the data.\n",
    "train_ds =train_data.map(vectorize_text)\n",
    "val_ds = val_data.map(vectorize_text)\n",
    "all_ds = train_all.map(vectorize_text)\n",
    "\n",
    "# Do async prefetching / buffering of the data for best performance on GPU.\n",
    "train_ds = train_ds.cache().prefetch(buffer_size=10)\n",
    "val_ds = val_ds.cache().prefetch(buffer_size=10)\n",
    "all_ds = all_ds.cache().prefetch(buffer_size=10)"
   ]
  },
  {
   "cell_type": "code",
   "execution_count": 27,
   "id": "8f4b78e5-4ad3-41f7-8bad-2a90f9e10807",
   "metadata": {},
   "outputs": [
    {
     "name": "stdout",
     "output_type": "stream",
     "text": [
      "Text:  [[ 2142   481   514  1976   570  1533  1822   870  1144     0     0     0\n",
      "      0     0     0]\n",
      " [  119  1262   144   535  2508   336  1433   520  2756     2 15043    30\n",
      "   1939     0     0]\n",
      " [  528  2779 19340     5  1033   192  1451   192     2  3297 16857     0\n",
      "      0     0     0]\n",
      " [  570 13042 12277   296 11514 19539  1007  1541  1473   912  4370    69\n",
      "    729   171   224]\n",
      " [    1   135   691   549  2908   509  2908 18383   892 16013   150     0\n",
      "      0     0     0]\n",
      " [ 1911   123   706 15085  4589   567     2 17625 17118     0     0     0\n",
      "      0     0     0]\n",
      " [ 9321   455   826   294   554  1957    40  6143   912  2503  8995     0\n",
      "      0     0     0]\n",
      " [ 2789  4598   412    48  5696   323   220     1     2  3222 18771     0\n",
      "      0     0     0]\n",
      " [  881  2241  2113   714    50    16   295     2  8782     8  2142     0\n",
      "      0     0     0]\n",
      " [ 1142    87  2417     3  1018 19558   313 15994   224  2081 19121     1\n",
      "     20  1108     0]\n",
      " [  446  2460   381   956 12912  1475   271  1926     2 17072     0     0\n",
      "      0     0     0]\n",
      " [ 6108  3861   608   150   407    50   217     9  1762     2 11652     0\n",
      "      0     0     0]\n",
      " [  792     5    32  1846    41  1246  4287   839  4167     2 13628     0\n",
      "      0     0     0]\n",
      " [ 6646 13707  3140   101   184  2267    51   108     0     0     0     0\n",
      "      0     0     0]\n",
      " [  414     0     0     0     0     0     0     0     0     0     0     0\n",
      "      0     0     0]\n",
      " [ 9367   494  3210   495   155 14228   402  6799     1     0     0     0\n",
      "      0     0     0]\n",
      " [12853  4190   125   425  1632    89   149  5694    89   817 14574   396\n",
      "   2802    51     0]\n",
      " [13656 13613  1664  1937  1937  1033   422   603  1033  1937 16605     0\n",
      "      0     0     0]\n",
      " [  519 13188  2621   486    52  2030  3134     0     0     0     0     0\n",
      "      0     0     0]\n",
      " [  534  3322 12630  1610   348  8967 14369   473   473     0     0     0\n",
      "      0     0     0]]\n",
      "Label:  [1 0 1 1 0 0 1 0 1 0 1 1 1 0 0 0 0 1 0 0]\n"
     ]
    }
   ],
   "source": [
    "for text,label in train_ds.take(1):\n",
    "    print('Text: ',text.numpy())\n",
    "    print('Label: ',label.numpy())"
   ]
  },
  {
   "cell_type": "markdown",
   "id": "242aca9a-a375-42db-8b8a-fae22d5b00d1",
   "metadata": {},
   "source": [
    "We can build our model, using some the recommendation from the book __Advanced Deep Learning with TensorFlow 2 and Keras__ from _Rowel Atienza_. First we use a simple RNN."
   ]
  },
  {
   "cell_type": "code",
   "execution_count": 29,
   "id": "e2143b7c-7d65-4d8f-9e36-eae747861b6b",
   "metadata": {},
   "outputs": [],
   "source": [
    "embedding_dim = 128\n",
    "units = 128\n",
    "\n",
    "model = Sequential()\n",
    "model.add(tf.keras.Input(shape=(max_len,), dtype=\"int64\"))\n",
    "model.add(Embedding(input_dim = max_features + 1, output_dim = embedding_dim, input_length = max_len))\n",
    "model.add(LSTM(units=units))\n",
    "model.add(Dense(500, activation=\"relu\"))\n",
    "model.add(Dropout(0.5))\n",
    "model.add(Dense(1,activation='sigmoid'))          \n",
    "\n"
   ]
  },
  {
   "cell_type": "code",
   "execution_count": 30,
   "id": "6e36fa24-8655-41b3-be13-a54d48db0358",
   "metadata": {},
   "outputs": [
    {
     "name": "stdout",
     "output_type": "stream",
     "text": [
      "Model: \"sequential_1\"\n",
      "_________________________________________________________________\n",
      " Layer (type)                Output Shape              Param #   \n",
      "=================================================================\n",
      " embedding_1 (Embedding)     (None, 15, 128)           2560128   \n",
      "                                                                 \n",
      " lstm (LSTM)                 (None, 128)               131584    \n",
      "                                                                 \n",
      " dense (Dense)               (None, 500)               64500     \n",
      "                                                                 \n",
      " dropout (Dropout)           (None, 500)               0         \n",
      "                                                                 \n",
      " dense_1 (Dense)             (None, 1)                 501       \n",
      "                                                                 \n",
      "=================================================================\n",
      "Total params: 2,756,713\n",
      "Trainable params: 2,756,713\n",
      "Non-trainable params: 0\n",
      "_________________________________________________________________\n"
     ]
    }
   ],
   "source": [
    "model.summary()"
   ]
  },
  {
   "cell_type": "markdown",
   "id": "c4dc1574-c278-405a-9660-650a6e867c19",
   "metadata": {},
   "source": [
    "We have to prepare our data for model fit. "
   ]
  },
  {
   "cell_type": "code",
   "execution_count": 31,
   "id": "af52f77b-3dc7-4717-87ca-d492837d458e",
   "metadata": {},
   "outputs": [],
   "source": [
    "model.compile(loss=\"binary_crossentropy\", optimizer=\"adam\", metrics=[\"accuracy\"])\n"
   ]
  },
  {
   "cell_type": "markdown",
   "id": "dcd21a3d-6b0e-4163-a753-6baaa7b2c80f",
   "metadata": {},
   "source": [
    "### 4. Results and Analysis"
   ]
  },
  {
   "cell_type": "markdown",
   "id": "0f7a566f-1fea-4bb3-bd9a-8db36ac9aa9d",
   "metadata": {},
   "source": [
    "We fit our first model. "
   ]
  },
  {
   "cell_type": "code",
   "execution_count": 32,
   "id": "25af2e94-fcb4-4c05-afaa-0b25f530949c",
   "metadata": {},
   "outputs": [
    {
     "name": "stdout",
     "output_type": "stream",
     "text": [
      "Epoch 1/10\n",
      "305/305 [==============================] - 17s 21ms/step - loss: 0.5133 - accuracy: 0.7502 - val_loss: 0.4377 - val_accuracy: 0.8050\n",
      "Epoch 2/10\n",
      "305/305 [==============================] - 5s 18ms/step - loss: 0.2332 - accuracy: 0.9095 - val_loss: 0.5502 - val_accuracy: 0.7833\n",
      "Epoch 3/10\n",
      "305/305 [==============================] - 6s 18ms/step - loss: 0.0946 - accuracy: 0.9677 - val_loss: 0.8625 - val_accuracy: 0.7702\n",
      "Epoch 4/10\n",
      "305/305 [==============================] - 5s 17ms/step - loss: 0.0773 - accuracy: 0.9755 - val_loss: 0.7599 - val_accuracy: 0.7557\n",
      "Epoch 5/10\n",
      "305/305 [==============================] - 5s 16ms/step - loss: 0.0680 - accuracy: 0.9768 - val_loss: 0.7692 - val_accuracy: 0.7663\n",
      "Epoch 6/10\n",
      "305/305 [==============================] - 5s 17ms/step - loss: 0.0499 - accuracy: 0.9862 - val_loss: 0.8817 - val_accuracy: 0.7814\n",
      "Epoch 7/10\n",
      "305/305 [==============================] - 6s 18ms/step - loss: 0.0404 - accuracy: 0.9888 - val_loss: 0.8988 - val_accuracy: 0.7840\n",
      "Epoch 8/10\n",
      "305/305 [==============================] - 5s 18ms/step - loss: 0.0373 - accuracy: 0.9885 - val_loss: 0.9191 - val_accuracy: 0.7840\n",
      "Epoch 9/10\n",
      "305/305 [==============================] - 5s 18ms/step - loss: 0.0229 - accuracy: 0.9929 - val_loss: 1.0674 - val_accuracy: 0.7728\n",
      "Epoch 10/10\n",
      "305/305 [==============================] - 5s 18ms/step - loss: 0.0190 - accuracy: 0.9928 - val_loss: 1.1933 - val_accuracy: 0.7623\n"
     ]
    }
   ],
   "source": [
    "hist = model.fit(train_ds, batch_size=batch_size, epochs=10, validation_data=val_ds)"
   ]
  },
  {
   "cell_type": "code",
   "execution_count": 33,
   "id": "2f2ab055-3c28-4f42-acb1-fe02a32809df",
   "metadata": {},
   "outputs": [
    {
     "data": {
      "text/plain": [
       "[<matplotlib.lines.Line2D at 0x287e073f070>]"
      ]
     },
     "execution_count": 33,
     "metadata": {},
     "output_type": "execute_result"
    },
    {
     "data": {
      "image/png": "[encoded data removed]",
      "text/plain": [
       "<Figure size 640x480 with 1 Axes>"
      ]
     },
     "metadata": {},
     "output_type": "display_data"
    }
   ],
   "source": [
    "plt.plot(hist.history['loss'])\n",
    "plt.plot(hist.history['val_loss'])\n",
    "\n"
   ]
  },
  {
   "cell_type": "code",
   "execution_count": 35,
   "id": "d44a9ce4-6a7b-43ff-968e-9cdd9ceffea5",
   "metadata": {},
   "outputs": [
    {
     "name": "stdout",
     "output_type": "stream",
     "text": [
      "77/77 [==============================] - 1s 14ms/step - loss: 1.1933 - accuracy: 0.7623\n"
     ]
    },
    {
     "data": {
      "text/plain": [
       "[1.193300485610962, 0.7623112201690674]"
      ]
     },
     "execution_count": 35,
     "metadata": {},
     "output_type": "execute_result"
    }
   ],
   "source": [
    "model.evaluate(val_ds)\n",
    "\n",
    "## Best result: 0.7623"
   ]
  },
  {
   "cell_type": "markdown",
   "id": "f477a54d-8c47-4fd8-b7b1-329882f4e5b9",
   "metadata": {},
   "source": [
    "For the hyperparameter tuning, we are going to use the [KerasTuner](https://keras.io/guides/keras_tuner/getting_started/). The first thing we need to do is writing a function, which returns a compiled Keras model. It takes an argument _hp_ for defining the hyperparameters while building the model. We use the next parameters:\n",
    "1. Embedding dimension for the enbedding layer.\n",
    "2. Number of units in the LSTM layer. \n",
    "3. Number of Dense layers.\n",
    "4. Units for each of the dense layers.\n",
    "5. Dropout rate.\n",
    "6. learnig rate for the optimizer"
   ]
  },
  {
   "cell_type": "code",
   "execution_count": 36,
   "id": "9df6db2a-fa48-446d-9ad4-bac95fd41f50",
   "metadata": {},
   "outputs": [],
   "source": [
    "def build_model(hp):\n",
    "    model = Sequential()\n",
    "    model.add(tf.keras.Input(shape=(max_len,), dtype=\"int64\"))\n",
    "    model.add(Embedding(\n",
    "        input_dim = max_features + 1, \n",
    "        output_dim = hp.Int(\"embedding_dim\", min_value=15, max_value=150, step=15),\n",
    "        input_length = max_len))\n",
    "    model.add(LSTM(units=hp.Int(\"units\", min_value=32, max_value=512, step=32)))\n",
    "    for i in range(hp.Int(\"num_layers\", 1, 3)):\n",
    "        model.add(\n",
    "            layers.Dense(\n",
    "                # Tune number of units separately.\n",
    "                units=hp.Int(f\"units_{i}\", min_value=32, max_value=512, step=32),\n",
    "                activation=\"relu\"\n",
    "            )\n",
    "        )\n",
    "    model.add(Dropout(rate=hp.Float(\"rate\", min_value=0, max_value=0.5, step=0.1)))\n",
    "    model.add(Dense(1,activation='sigmoid'))   \n",
    "    model.compile(\n",
    "        loss=\"binary_crossentropy\", \n",
    "        optimizer=tf.keras.optimizers.Adam(learning_rate=hp.Float(\"lr\", min_value=1e-4, max_value=1e-2, sampling=\"log\")),\n",
    "        metrics=[\"accuracy\"])\n",
    "    return model"
   ]
  },
  {
   "cell_type": "markdown",
   "id": "86e9b5ed-d601-4caa-ac80-eb09ae7088f6",
   "metadata": {},
   "source": [
    "Check if the model builds successfully."
   ]
  },
  {
   "cell_type": "code",
   "execution_count": 37,
   "id": "3c516263-f39d-49aa-881e-05454a3d1df3",
   "metadata": {},
   "outputs": [
    {
     "data": {
      "text/plain": [
       "<keras.engine.sequential.Sequential at 0x287d554f730>"
      ]
     },
     "execution_count": 37,
     "metadata": {},
     "output_type": "execute_result"
    }
   ],
   "source": [
    "build_model(keras_tuner.HyperParameters())"
   ]
  },
  {
   "cell_type": "markdown",
   "id": "838d7a81-85fc-42ee-a7a6-f43a42184339",
   "metadata": {},
   "source": [
    "After defining the search space, we need to select a tuner class to run the search. We choose RandomSearch for start the search. For the first optimization we observe that a epoch of 3 is enough to obtain good results. "
   ]
  },
  {
   "cell_type": "code",
   "execution_count": 38,
   "id": "d2486bee-d667-4ae3-b8dd-4aa7bfe175b7",
   "metadata": {},
   "outputs": [
    {
     "name": "stdout",
     "output_type": "stream",
     "text": [
      "Search space summary\n",
      "Default search space size: 6\n",
      "embedding_dim (Int)\n",
      "{'default': None, 'conditions': [], 'min_value': 15, 'max_value': 150, 'step': 15, 'sampling': 'linear'}\n",
      "units (Int)\n",
      "{'default': None, 'conditions': [], 'min_value': 32, 'max_value': 512, 'step': 32, 'sampling': 'linear'}\n",
      "num_layers (Int)\n",
      "{'default': None, 'conditions': [], 'min_value': 1, 'max_value': 3, 'step': 1, 'sampling': 'linear'}\n",
      "units_0 (Int)\n",
      "{'default': None, 'conditions': [], 'min_value': 32, 'max_value': 512, 'step': 32, 'sampling': 'linear'}\n",
      "rate (Float)\n",
      "{'default': 0.0, 'conditions': [], 'min_value': 0.0, 'max_value': 0.5, 'step': 0.1, 'sampling': 'linear'}\n",
      "lr (Float)\n",
      "{'default': 0.0001, 'conditions': [], 'min_value': 0.0001, 'max_value': 0.01, 'step': None, 'sampling': 'log'}\n"
     ]
    }
   ],
   "source": [
    "tuner = keras_tuner.RandomSearch(\n",
    "    hypermodel=build_model,\n",
    "    objective=\"val_accuracy\",\n",
    "    max_trials=20,\n",
    "    executions_per_trial=1,\n",
    "    overwrite=True,\n",
    "    directory=\"models\", \n",
    "    project_name=\"RNNAssigment\" \n",
    ")\n",
    "\n",
    "tuner.search_space_summary()\n"
   ]
  },
  {
   "cell_type": "code",
   "execution_count": 39,
   "id": "286ecab5-fc2d-4c9b-bb76-0a2d61daa351",
   "metadata": {},
   "outputs": [
    {
     "name": "stdout",
     "output_type": "stream",
     "text": [
      "Trial 20 Complete [00h 00m 19s]\n",
      "val_accuracy: 0.7971109747886658\n",
      "\n",
      "Best val_accuracy So Far: 0.8102429509162903\n",
      "Total elapsed time: 00h 06m 00s\n",
      "INFO:tensorflow:Oracle triggered exit\n"
     ]
    }
   ],
   "source": [
    "tuner.search(train_ds, epochs=2, validation_data=val_ds)"
   ]
  },
  {
   "cell_type": "markdown",
   "id": "7ff87ca7-78ad-4c5d-a470-2965593ea915",
   "metadata": {},
   "source": [
    "Let's see the best model. "
   ]
  },
  {
   "cell_type": "code",
   "execution_count": 40,
   "id": "b2215b65-d7ae-47bc-a8e4-7fa19b057e53",
   "metadata": {},
   "outputs": [
    {
     "name": "stdout",
     "output_type": "stream",
     "text": [
      "Model: \"sequential\"\n",
      "_________________________________________________________________\n",
      " Layer (type)                Output Shape              Param #   \n",
      "=================================================================\n",
      " embedding (Embedding)       (None, 15, 90)            1800090   \n",
      "                                                                 \n",
      " lstm (LSTM)                 (None, 256)               355328    \n",
      "                                                                 \n",
      " dense (Dense)               (None, 384)               98688     \n",
      "                                                                 \n",
      " dense_1 (Dense)             (None, 256)               98560     \n",
      "                                                                 \n",
      " dense_2 (Dense)             (None, 352)               90464     \n",
      "                                                                 \n",
      " dropout (Dropout)           (None, 352)               0         \n",
      "                                                                 \n",
      " dense_3 (Dense)             (None, 1)                 353       \n",
      "                                                                 \n",
      "=================================================================\n",
      "Total params: 2,443,483\n",
      "Trainable params: 2,443,483\n",
      "Non-trainable params: 0\n",
      "_________________________________________________________________\n"
     ]
    }
   ],
   "source": [
    "# Get the top 2 models.\n",
    "models = tuner.get_best_models(num_models=2)\n",
    "best_model = models[0]\n",
    "# Build the model.\n",
    "# Needed for `Sequential` without specified `input_shape`.\n",
    "best_model.build(input_shape=(None, max_len))\n",
    "best_model.summary()"
   ]
  },
  {
   "cell_type": "markdown",
   "id": "f09cebf7-88af-4e9a-9c7f-fdea61e2fc0d",
   "metadata": {},
   "source": [
    "With the best hyperparameters we build the model again, fitting with the entire dataset."
   ]
  },
  {
   "cell_type": "code",
   "execution_count": 41,
   "id": "f7c3b12d-e5f0-476a-ba10-1d30dc96dc35",
   "metadata": {},
   "outputs": [
    {
     "name": "stdout",
     "output_type": "stream",
     "text": [
      "Epoch 1/10\n",
      "381/381 [==============================] - 10s 18ms/step - loss: 0.6210 - accuracy: 0.6532\n",
      "Epoch 2/10\n",
      "381/381 [==============================] - 7s 17ms/step - loss: 0.3430 - accuracy: 0.8589\n",
      "Epoch 3/10\n",
      "381/381 [==============================] - 7s 17ms/step - loss: 0.1716 - accuracy: 0.9368\n",
      "Epoch 4/10\n",
      "381/381 [==============================] - 7s 18ms/step - loss: 0.1316 - accuracy: 0.9574\n",
      "Epoch 5/10\n",
      "381/381 [==============================] - 7s 18ms/step - loss: 0.0861 - accuracy: 0.9727\n",
      "Epoch 6/10\n",
      "381/381 [==============================] - 7s 18ms/step - loss: 0.0556 - accuracy: 0.9813\n",
      "Epoch 7/10\n",
      "381/381 [==============================] - 7s 17ms/step - loss: 0.0505 - accuracy: 0.9846\n",
      "Epoch 8/10\n",
      "381/381 [==============================] - 7s 19ms/step - loss: 0.0473 - accuracy: 0.9875\n",
      "Epoch 9/10\n",
      "381/381 [==============================] - 7s 19ms/step - loss: 0.0390 - accuracy: 0.9892\n",
      "Epoch 10/10\n",
      "381/381 [==============================] - 7s 19ms/step - loss: 0.0320 - accuracy: 0.9901\n"
     ]
    }
   ],
   "source": [
    "best_hps = tuner.get_best_hyperparameters(5)\n",
    "model = build_model(best_hps[0])\n",
    "hist = model.fit(all_ds, epochs=10)"
   ]
  },
  {
   "cell_type": "code",
   "execution_count": 42,
   "id": "741442fd-c7f7-41d1-8d48-bc4959827970",
   "metadata": {},
   "outputs": [
    {
     "data": {
      "text/plain": [
       "[<matplotlib.lines.Line2D at 0x287e0d117f0>]"
      ]
     },
     "execution_count": 42,
     "metadata": {},
     "output_type": "execute_result"
    },
    {
     "data": {
      "image/png": "[encoded data removed]",
      "text/plain": [
       "<Figure size 640x480 with 1 Axes>"
      ]
     },
     "metadata": {},
     "output_type": "display_data"
    }
   ],
   "source": [
    "plt.plot(hist.history['loss'])"
   ]
  },
  {
   "cell_type": "markdown",
   "id": "8b199500-ef6f-4c6d-808e-3b9f87179594",
   "metadata": {},
   "source": [
    "With this results, we have to find our first submission. We need to make a end to end model to compute the prediction from the test samples, using [keras guide recommendations](https://keras.io/examples/nlp/text_classification_from_scratch/)."
   ]
  },
  {
   "cell_type": "code",
   "execution_count": 43,
   "id": "0352240d-9471-478a-86f9-8245800c5fdd",
   "metadata": {},
   "outputs": [],
   "source": [
    "# A string input\n",
    "inputs = tf.keras.Input(shape=(1,), dtype=\"string\")\n",
    "# Turn strings into vocab indices\n",
    "indices = vectorize_layer(inputs)\n",
    "# Turn vocab indices into predictions\n",
    "outputs = model(indices)\n",
    "\n",
    "# Our end to end model\n",
    "end_to_end_model = tf.keras.Model(inputs, outputs)\n",
    "end_to_end_model.compile(\n",
    "    loss=\"binary_crossentropy\", optimizer=\"adam\", metrics=[\"accuracy\"]\n",
    ")\n"
   ]
  },
  {
   "cell_type": "code",
   "execution_count": 44,
   "id": "2757f6c4-ba71-4cb6-b16a-d924df577e65",
   "metadata": {},
   "outputs": [
    {
     "name": "stdout",
     "output_type": "stream",
     "text": [
      "102/102 [==============================] - 2s 15ms/step\n"
     ]
    }
   ],
   "source": [
    "predictions = end_to_end_model.predict(test_df[\"text\"])"
   ]
  },
  {
   "cell_type": "code",
   "execution_count": 45,
   "id": "c136f550-f2b7-4c61-95e7-0611d37819d9",
   "metadata": {},
   "outputs": [
    {
     "data": {
      "text/html": [
       "<div>\n",
       "<style scoped>\n",
       "    .dataframe tbody tr th:only-of-type {\n",
       "        vertical-align: middle;\n",
       "    }\n",
       "\n",
       "    .dataframe tbody tr th {\n",
       "        vertical-align: top;\n",
       "    }\n",
       "\n",
       "    .dataframe thead th {\n",
       "        text-align: right;\n",
       "    }\n",
       "</style>\n",
       "<table border=\"1\" class=\"dataframe\">\n",
       "  <thead>\n",
       "    <tr style=\"text-align: right;\">\n",
       "      <th></th>\n",
       "      <th>id</th>\n",
       "      <th>target</th>\n",
       "    </tr>\n",
       "  </thead>\n",
       "  <tbody>\n",
       "    <tr>\n",
       "      <th>0</th>\n",
       "      <td>0</td>\n",
       "      <td>1</td>\n",
       "    </tr>\n",
       "    <tr>\n",
       "      <th>1</th>\n",
       "      <td>2</td>\n",
       "      <td>1</td>\n",
       "    </tr>\n",
       "    <tr>\n",
       "      <th>2</th>\n",
       "      <td>3</td>\n",
       "      <td>1</td>\n",
       "    </tr>\n",
       "    <tr>\n",
       "      <th>3</th>\n",
       "      <td>9</td>\n",
       "      <td>1</td>\n",
       "    </tr>\n",
       "    <tr>\n",
       "      <th>4</th>\n",
       "      <td>11</td>\n",
       "      <td>1</td>\n",
       "    </tr>\n",
       "  </tbody>\n",
       "</table>\n",
       "</div>"
      ],
      "text/plain": [
       "   id  target\n",
       "0   0       1\n",
       "1   2       1\n",
       "2   3       1\n",
       "3   9       1\n",
       "4  11       1"
      ]
     },
     "execution_count": 45,
     "metadata": {},
     "output_type": "execute_result"
    }
   ],
   "source": [
    "submission_files = pd.read_csv(\"data/sample_submission.csv\")\n",
    "tweet_id = submission_files[\"id\"]\n",
    "final_predictions = np.transpose(np.where(predictions>0.5,1,0))[0]\n",
    "submission = pd.DataFrame(list(zip(tweet_id,final_predictions)), columns=[\"id\", \"target\"])\n",
    "submission.head()"
   ]
  },
  {
   "cell_type": "markdown",
   "id": "0301637b-b45a-484b-9363-b1c75504d33b",
   "metadata": {},
   "source": [
    "Finally, we have to prepare the submission file to compare our results with other competition results."
   ]
  },
  {
   "cell_type": "code",
   "execution_count": 46,
   "id": "f13deeed-d137-442a-a053-ba836f2a182c",
   "metadata": {},
   "outputs": [],
   "source": [
    "submission.to_csv('data/submission.csv', index=False)"
   ]
  },
  {
   "cell_type": "markdown",
   "id": "274de69d-2a6a-4ca6-82ad-27fa44049384",
   "metadata": {},
   "source": [
    "### 5. Conclusion"
   ]
  },
  {
   "cell_type": "markdown",
   "id": "c8d41b46-522e-424b-8137-398e680af817",
   "metadata": {},
   "source": [
    "Once the results were sent to the competition, we obtained the following results:\n",
    "\n",
    "![](images/submission.png)\n",
    "\n",
    "The position 982 is still very low compared to what was achieved by most of the participants,  so the proposed architecture must be improved. Although a hyperparameter optimization process was developed, the improvement in results was marginal. It is posible that we need to use to train a text classification model that uses pre-trained word embeddings like the GloVe embeddings."
   ]
  },
  {
   "cell_type": "markdown",
   "id": "c4f1b4a8-5082-4a66-8f5d-407a6edf6de3",
   "metadata": {},
   "source": [
    "### 6. Github Repository"
   ]
  },
  {
   "cell_type": "markdown",
   "id": "10d3b1ce-c5a3-4bd3-ad33-74f13ed832ff",
   "metadata": {},
   "source": [
    "[https://github.com/alezulu73/RNNWeek4Assigment](https://github.com/alezulu73/RNNWeek4Assigment)"
   ]
  },
  {
   "cell_type": "code",
   "execution_count": null,
   "id": "0c84c82f-85c6-40e3-83be-61d3196c76e4",
   "metadata": {},
   "outputs": [],
   "source": []
  }
 ],
 "metadata": {
  "kernelspec": {
   "display_name": "Python 3 (ipykernel)",
   "language": "python",
   "name": "python3"
  },
  "language_info": {
   "codemirror_mode": {
    "name": "ipython",
    "version": 3
   },
   "file_extension": ".py",
   "mimetype": "text/x-python",
   "name": "python",
   "nbconvert_exporter": "python",
   "pygments_lexer": "ipython3",
   "version": "3.9.16"
  }
 },
 "nbformat": 4,
 "nbformat_minor": 5
}
